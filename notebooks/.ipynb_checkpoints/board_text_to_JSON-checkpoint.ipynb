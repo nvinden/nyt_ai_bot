{
 "cells": [
  {
   "cell_type": "code",
   "execution_count": null,
   "id": "bfefa25c",
   "metadata": {},
   "outputs": [],
   "source": [
    "path_of_file = \"/home/nick/Work/projects/nyt/ai_puzzles/solutions/puzzle_*LESSE***TSONE*_D2N7U_CHATGPT_gpt-4_MANU.txt\""
   ]
  }
 ],
 "metadata": {
  "kernelspec": {
   "display_name": "Python 3 (ipykernel)",
   "language": "python",
   "name": "python3"
  },
  "language_info": {
   "codemirror_mode": {
    "name": "ipython",
    "version": 3
   },
   "file_extension": ".py",
   "mimetype": "text/x-python",
   "name": "python",
   "nbconvert_exporter": "python",
   "pygments_lexer": "ipython3",
   "version": "3.10.9"
  }
 },
 "nbformat": 4,
 "nbformat_minor": 5
}
