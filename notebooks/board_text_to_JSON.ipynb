{
 "cells": [
  {
   "cell_type": "code",
   "execution_count": 6,
   "id": "bfefa25c",
   "metadata": {},
   "outputs": [],
   "source": [
    "from collections import defaultdict\n",
    "import json\n",
    "\n",
    "path_of_file = \"/home/nvinden/Projects/nyt_ai_bot/website/public/cross_data/complete_crosswords/puzzle_*LESSE***TSONE*_D2N7U_CHATGPT_gpt-4_MANU.txt\""
   ]
  },
  {
   "cell_type": "code",
   "execution_count": 8,
   "id": "eb7763e6",
   "metadata": {},
   "outputs": [],
   "source": [
    "# Open file\n",
    "with open(path_of_file, 'r') as file:\n",
    "    board_text = file.read()\n",
    "\n",
    "board = []\n",
    "entries = []\n",
    "\n",
    "clue_count = {}\n",
    "clue_num = 1\n",
    "\n",
    "# For each line\n",
    "for line in board_text.split('\\n'):\n",
    "    # If line is empty\n",
    "    if line == '':\n",
    "        continue\n",
    "\n",
    "    if line[0].isnumeric(): # part of clues\n",
    "        board_row = line.split(' ')\n",
    "\n",
    "        row = int(board_row[0])\n",
    "        col = int(board_row[1])\n",
    "        direction = board_row[2]\n",
    "        sol = board_row[3]\n",
    "        clue = ' '.join(board_row[4:])\n",
    "\n",
    "        entries.append({\n",
    "            \"clue\": clue,\n",
    "            \"direction\": direction,\n",
    "            \"row\": row,\n",
    "            \"col\": col,\n",
    "            \"sol\": sol\n",
    "        })\n",
    "    else: # Part of board\n",
    "        board_row = line.split(' ')\n",
    "        board.append(board_row)\n",
    "\n",
    "for row in range(len(board)):\n",
    "    for col in range(len(board[row])):\n",
    "        if board[row][col] == '*':\n",
    "            continue\n",
    "\n",
    "        clue_key = str(row) + '_' + str(col)\n",
    "\n",
    "        curr_clues_found = 0\n",
    "        for entry in entries:\n",
    "            if entry['row'] == row and entry['col'] == col:\n",
    "                entry['clue_num'] = clue_num\n",
    "                curr_clues_found += 1\n",
    "        \n",
    "        if curr_clues_found != 0:\n",
    "            clue_num += 1\n",
    "\n",
    "all_data = {\n",
    "    \"board\": board,\n",
    "    \"entries\": entries,\n",
    "    \"n_rows\": len(board),\n",
    "    \"n_cols\": len(board[0])\n",
    "}\n",
    "\n",
    "json_save = path_of_file.split('.')[0] + '.json'\n",
    "with open(json_save, 'w', encoding='utf-8') as file:\n",
    "    json.dump(all_data, file, ensure_ascii=False)\n"
   ]
  }
 ],
 "metadata": {
  "kernelspec": {
   "display_name": "Python 3",
   "language": "python",
   "name": "python3"
  },
  "language_info": {
   "codemirror_mode": {
    "name": "ipython",
    "version": 3
   },
   "file_extension": ".py",
   "mimetype": "text/x-python",
   "name": "python",
   "nbconvert_exporter": "python",
   "pygments_lexer": "ipython3",
   "version": "3.10.6"
  },
  "vscode": {
   "interpreter": {
    "hash": "916dbcbb3f70747c44a77c7bcd40155683ae19c65e1c03b4aa3499c5328201f1"
   }
  }
 },
 "nbformat": 4,
 "nbformat_minor": 5
}
